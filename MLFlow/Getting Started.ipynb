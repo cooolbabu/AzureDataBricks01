{
 "cells": [
  {
   "cell_type": "markdown",
   "id": "ad0359d1",
   "metadata": {},
   "source": [
    "# ML Flow Getting started\n",
    "\n",
    "[MLFlow getting started[(https://mlflow.org/docs/latest/quickstart.html)\n"
   ]
  },
  {
   "cell_type": "code",
   "execution_count": null,
   "id": "92d96f82",
   "metadata": {},
   "outputs": [],
   "source": []
  },
  {
   "cell_type": "code",
   "execution_count": 1,
   "id": "ced9eb08",
   "metadata": {},
   "outputs": [
    {
     "name": "stderr",
     "output_type": "stream",
     "text": [
      "2023/09/10 09:18:58 INFO mlflow.tracking.fluent: Autologging successfully enabled for sklearn.\n",
      "2023/09/10 09:18:59 INFO mlflow.utils.autologging_utils: Created MLflow autologging run with ID '50152f9ec8014af6a4de491b7fe24c8b', which will track hyperparameters, performance metrics, model artifacts, and lineage information for the current sklearn workflow\n",
      "2023/09/10 09:19:28 WARNING mlflow.utils.autologging_utils: MLflow autologging encountered a warning: \"C:\\Users\\coool\\anaconda3\\lib\\site-packages\\_distutils_hack\\__init__.py:33: UserWarning: Setuptools is replacing distutils.\"\n"
     ]
    }
   ],
   "source": [
    "import mlflow\n",
    "\n",
    "from sklearn.model_selection import train_test_split\n",
    "from sklearn.datasets import load_diabetes\n",
    "from sklearn.ensemble import RandomForestRegressor\n",
    "\n",
    "mlflow.autolog()\n",
    "\n",
    "db = load_diabetes()\n",
    "X_train, X_test, y_train, y_test = train_test_split(db.data, db.target)\n",
    "\n",
    "# Create and train models.\n",
    "rf = RandomForestRegressor(n_estimators=100, max_depth=6, max_features=3)\n",
    "rf.fit(X_train, y_train)\n",
    "\n",
    "# Use the model to make predictions on the test dataset.\n",
    "predictions = rf.predict(X_test)\n"
   ]
  },
  {
   "cell_type": "code",
   "execution_count": 5,
   "id": "cb3f7155",
   "metadata": {},
   "outputs": [
    {
     "name": "stdout",
     "output_type": "stream",
     "text": [
      "Test Predictions: [118.94999728 117.56965141 136.70520866 170.75081797 191.48246886\n",
      " 225.57157447 124.81186722  89.29107779  86.435825   192.19841991]\n",
      "  Actual values : [199.  88. 214. 235. 178.  84. 200. 115.  39. 144.]\n"
     ]
    }
   ],
   "source": [
    "\n",
    "print(\"Test Predictions: {}\".format(predictions[:10]))\n",
    "print(\"  Actual values : {}\".format(y_test[:10]))"
   ]
  },
  {
   "cell_type": "code",
   "execution_count": 3,
   "id": "9c1d5a94",
   "metadata": {},
   "outputs": [
    {
     "data": {
      "text/plain": [
       "array([118.94999728, 117.56965141, 136.70520866, 170.75081797,\n",
       "       191.48246886, 225.57157447, 124.81186722,  89.29107779,\n",
       "        86.435825  , 192.19841991])"
      ]
     },
     "execution_count": 3,
     "metadata": {},
     "output_type": "execute_result"
    }
   ],
   "source": [
    "predictions[:10]"
   ]
  }
 ],
 "metadata": {
  "kernelspec": {
   "display_name": "Python 3 (ipykernel)",
   "language": "python",
   "name": "python3"
  },
  "language_info": {
   "codemirror_mode": {
    "name": "ipython",
    "version": 3
   },
   "file_extension": ".py",
   "mimetype": "text/x-python",
   "name": "python",
   "nbconvert_exporter": "python",
   "pygments_lexer": "ipython3",
   "version": "3.9.13"
  }
 },
 "nbformat": 4,
 "nbformat_minor": 5
}
